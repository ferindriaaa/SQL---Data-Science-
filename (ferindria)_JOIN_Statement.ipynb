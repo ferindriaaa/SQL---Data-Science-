{
  "cells": [
    {
      "cell_type": "markdown",
      "metadata": {
        "id": "M0TwZuZNWm_r"
      },
      "source": [
        "# <b>A. <span style='color:#0B2F9F'><code>PREFIX</code></span></b>\n",
        "Prefix merupakan penggunaan awalan pada nama tabel untuk memberikan informasi tambahan atau untuk mengelompokkan objek-objek tertentu. Sebagai contoh perhatikan gambar berikut : <br><br>\n",
        "\n",
        "<img src=\"https://raw.githubusercontent.com/bachtiyarma/Material/refs/heads/main/Image/Materi-SQL/SQL%20-%20Prefix.png\" width=\"50%\">\n",
        "\n",
        "<br><br>\n",
        "Nama tabel dimisalkan (diberi alias) sebagai tbl, lalu untuk mengakses kolom pada tabel tersebut bisa diberi prefix tbl.kolom1 dan seterusnya"
      ]
    },
    {
      "cell_type": "markdown",
      "metadata": {
        "id": "gqjQ-F07Wm_s"
      },
      "source": [
        "#### <i><b><span style='color:#55679C'>Quest</span> : Pada tabel customer_demography, ambil kolom customer_id, gender, age dan married namun gunakan alias 'cdm' pada nama tabel dan sematkan prefixnya saat mengakses kolom!</b></i>"
      ]
    },
    {
      "cell_type": "code",
      "execution_count": null,
      "metadata": {
        "id": "EumWiJYnWm_s",
        "outputId": "c484b649-2451-4bf7-e10c-b61c7aa51ede"
      },
      "outputs": [
        {
          "data": {
            "text/html": [
              "<style type=\"text/css\">\n",
              "</style>\n",
              "<table id=\"T_aba70\">\n",
              "  <thead>\n",
              "    <tr>\n",
              "      <th id=\"T_aba70_level0_col0\" class=\"col_heading level0 col0\" >customer_id</th>\n",
              "      <th id=\"T_aba70_level0_col1\" class=\"col_heading level0 col1\" >gender</th>\n",
              "      <th id=\"T_aba70_level0_col2\" class=\"col_heading level0 col2\" >age</th>\n",
              "      <th id=\"T_aba70_level0_col3\" class=\"col_heading level0 col3\" >married</th>\n",
              "    </tr>\n",
              "  </thead>\n",
              "  <tbody>\n",
              "    <tr>\n",
              "      <td id=\"T_aba70_row0_col0\" class=\"data row0 col0\" >8779-QRDMV</td>\n",
              "      <td id=\"T_aba70_row0_col1\" class=\"data row0 col1\" >Male</td>\n",
              "      <td id=\"T_aba70_row0_col2\" class=\"data row0 col2\" >78</td>\n",
              "      <td id=\"T_aba70_row0_col3\" class=\"data row0 col3\" >No</td>\n",
              "    </tr>\n",
              "    <tr>\n",
              "      <td id=\"T_aba70_row1_col0\" class=\"data row1 col0\" >7495-OOKFY</td>\n",
              "      <td id=\"T_aba70_row1_col1\" class=\"data row1 col1\" >Female</td>\n",
              "      <td id=\"T_aba70_row1_col2\" class=\"data row1 col2\" >74</td>\n",
              "      <td id=\"T_aba70_row1_col3\" class=\"data row1 col3\" >Yes</td>\n",
              "    </tr>\n",
              "    <tr>\n",
              "      <td id=\"T_aba70_row2_col0\" class=\"data row2 col0\" >1658-BYGOY</td>\n",
              "      <td id=\"T_aba70_row2_col1\" class=\"data row2 col1\" >Male</td>\n",
              "      <td id=\"T_aba70_row2_col2\" class=\"data row2 col2\" >71</td>\n",
              "      <td id=\"T_aba70_row2_col3\" class=\"data row2 col3\" >No</td>\n",
              "    </tr>\n",
              "    <tr>\n",
              "      <td id=\"T_aba70_row3_col0\" class=\"data row3 col0\" >4598-XLKNJ</td>\n",
              "      <td id=\"T_aba70_row3_col1\" class=\"data row3 col1\" >Female</td>\n",
              "      <td id=\"T_aba70_row3_col2\" class=\"data row3 col2\" >78</td>\n",
              "      <td id=\"T_aba70_row3_col3\" class=\"data row3 col3\" >Yes</td>\n",
              "    </tr>\n",
              "    <tr>\n",
              "      <td id=\"T_aba70_row4_col0\" class=\"data row4 col0\" >4846-WHAFZ</td>\n",
              "      <td id=\"T_aba70_row4_col1\" class=\"data row4 col1\" >Female</td>\n",
              "      <td id=\"T_aba70_row4_col2\" class=\"data row4 col2\" >80</td>\n",
              "      <td id=\"T_aba70_row4_col3\" class=\"data row4 col3\" >Yes</td>\n",
              "    </tr>\n",
              "    <tr>\n",
              "      <td id=\"T_aba70_row5_col0\" class=\"data row5 col0\" >4412-YLTKF</td>\n",
              "      <td id=\"T_aba70_row5_col1\" class=\"data row5 col1\" >Female</td>\n",
              "      <td id=\"T_aba70_row5_col2\" class=\"data row5 col2\" >72</td>\n",
              "      <td id=\"T_aba70_row5_col3\" class=\"data row5 col3\" >No</td>\n",
              "    </tr>\n",
              "    <tr>\n",
              "      <td id=\"T_aba70_row6_col0\" class=\"data row6 col0\" >0390-DCFDQ</td>\n",
              "      <td id=\"T_aba70_row6_col1\" class=\"data row6 col1\" >Female</td>\n",
              "      <td id=\"T_aba70_row6_col2\" class=\"data row6 col2\" >76</td>\n",
              "      <td id=\"T_aba70_row6_col3\" class=\"data row6 col3\" >Yes</td>\n",
              "    </tr>\n",
              "    <tr>\n",
              "      <td id=\"T_aba70_row7_col0\" class=\"data row7 col0\" >3445-HXXGF</td>\n",
              "      <td id=\"T_aba70_row7_col1\" class=\"data row7 col1\" >Male</td>\n",
              "      <td id=\"T_aba70_row7_col2\" class=\"data row7 col2\" >66</td>\n",
              "      <td id=\"T_aba70_row7_col3\" class=\"data row7 col3\" >Yes</td>\n",
              "    </tr>\n",
              "    <tr>\n",
              "      <td id=\"T_aba70_row8_col0\" class=\"data row8 col0\" >2656-FMOKZ</td>\n",
              "      <td id=\"T_aba70_row8_col1\" class=\"data row8 col1\" >Female</td>\n",
              "      <td id=\"T_aba70_row8_col2\" class=\"data row8 col2\" >70</td>\n",
              "      <td id=\"T_aba70_row8_col3\" class=\"data row8 col3\" >No</td>\n",
              "    </tr>\n",
              "    <tr>\n",
              "      <td id=\"T_aba70_row9_col0\" class=\"data row9 col0\" >2070-FNEXE</td>\n",
              "      <td id=\"T_aba70_row9_col1\" class=\"data row9 col1\" >Female</td>\n",
              "      <td id=\"T_aba70_row9_col2\" class=\"data row9 col2\" >77</td>\n",
              "      <td id=\"T_aba70_row9_col3\" class=\"data row9 col3\" >No</td>\n",
              "    </tr>\n",
              "    <tr>\n",
              "      <td id=\"T_aba70_row10_col0\" class=\"data row10 col0\" >...</td>\n",
              "      <td id=\"T_aba70_row10_col1\" class=\"data row10 col1\" >...</td>\n",
              "      <td id=\"T_aba70_row10_col2\" class=\"data row10 col2\" >...</td>\n",
              "      <td id=\"T_aba70_row10_col3\" class=\"data row10 col3\" >...</td>\n",
              "    </tr>\n",
              "  </tbody>\n",
              "</table>\n"
            ],
            "text/plain": [
              "<pandas.io.formats.style.Styler at 0x14020cc50>"
            ]
          },
          "metadata": {},
          "output_type": "display_data"
        }
      ],
      "source": [
        "select cdm.customer_id, cdm.gender, cdm.age, cdm.married from `Telco_churn.customer_demography` as cdm"
      ]
    },
    {
      "cell_type": "markdown",
      "metadata": {
        "id": "c9kZzC1dWm_t"
      },
      "source": [
        "# <b>B. <span style='color:#0B2F9F'><code>JOIN</code></span></b>\n",
        "\n",
        "Data biasanya disimpan di berbagai tabel atau sistem yang berbeda pada RDBMS (Relational Database Management System). JOIN memungkinkan pengguna untuk menggabungkan data dari berbagai sumber untuk mendapatkan gambaran yang lebih lengkap. Memahami query JOIN memungkinkan seorang pengguna untuk mengintegrasikan dan menganalisis data secara efektif, sehingga dapat meningkatkan kualitas analisis dan mendukung pengambilan keputusan berbasis data.\n",
        "\n",
        "Operasi JOIN standar dapat dilakukan jika terdapat kunci pada tiap tabel yang saling terhubung. Operasi join dasar yang paling umum digunakan ada 4 yakni :\n",
        "<ul>\n",
        "    <li><b>LEFT JOIN</b></li>\n",
        "    LEFT JOIN adalah jenis operasi penggabungan baris dari dua tabel, tetapi hanya mengembalikan semua baris dari tabel kiri (tabel pertama) dan baris yang cocok dari tabel kanan (tabel kedua). Jika tidak ada kecocokan di tabel kanan, maka nilai-nilai untuk kolom dari tabel kanan akan diisi dengan NULL.<br><br>\n",
        "    <img src=\"https://thomasadventure.blog/img/left-join-extra.gif\" width=\"20%\">\n",
        "    <br><br>\n",
        "    <li><b>RIGHT JOIN</b></li>\n",
        "    RIGHT JOIN adalah jenis operasi penggabungan baris dari dua tabel, tetapi hanya mengembalikan semua baris dari tabel kanan (tabel kedua) dan baris yang cocok dari tabel kiri (tabel pertama). Jika tidak ada kecocokan di tabel kiri, maka nilai-nilai untuk kolom dari tabel kiri akan diisi dengan NULL.<br><br>\n",
        "    <img src=\"https://thomasadventure.blog/img/right-join.gif\" width=\"20%\">\n",
        "    <br><br>\n",
        "    <li><b>INNER JOIN</b></li>\n",
        "    INNER JOIN adalah jenis operasi penggabungan yang hanya mengembalikan baris yang memiliki kecocokan di kedua tabel berdasarkan kriteria tertentu.<br><br>\n",
        "    <img src=\"https://thomasadventure.blog/img/inner-join.gif\" width=\"20%\">\n",
        "    <br><br>\n",
        "     <li><b>FULL JOIN</b></li>\n",
        "    FULL JOIN adalah jenis operasi penggabungan semua baris dari kedua tabel, baik yang memiliki kecocokan maupun yang tidak. Dengan demikian, hasilnya akan mencakup semua data dari tabel kiri dan tabel kanan.<br><br>\n",
        "    <img src=\"https://thomasadventure.blog/img/full-join.gif\" width=\"20%\">\n",
        "    <br><br>\n",
        "</ul>"
      ]
    },
    {
      "cell_type": "markdown",
      "metadata": {
        "id": "AjAjE6KYWm_t"
      },
      "source": [
        "#### <i><b><span style='color:#55679C'>Info</span>\n",
        "Untuk melakukan join biasanya akan lebih mudah jika arsitektur relasi antar tabel atau biasa dikenal ERD (Entity Relational Diagram) telah dibuat atau diketahui. Pada data telco churn ERD-nya disajikan pada gambar berikut<br><br>\n",
        "\n",
        "<img src=\"https://raw.githubusercontent.com/bachtiyarma/Material/refs/heads/main/Image/Materi-SQL/ERD%20-%20Telco%20Churn.png\" width=\"40%\">"
      ]
    },
    {
      "cell_type": "markdown",
      "metadata": {
        "id": "5SSjuMh9Wm_t"
      },
      "source": [
        "#### <i><b><span style='color:#55679C'>Quest : </span>Hitung berapa rata-rata biaya bulanan tiap status customer! Tampilkan status, total_customer, avg_monthly_charge! Interpretasikan insight dari hasil perhitungan!"
      ]
    },
    {
      "cell_type": "code",
      "execution_count": null,
      "metadata": {
        "id": "mNtz4ao_Wm_t",
        "outputId": "7712d92d-068a-4303-ebed-97b62273146b"
      },
      "outputs": [
        {
          "data": {
            "text/html": [
              "<style type=\"text/css\">\n",
              "</style>\n",
              "<table id=\"T_61b47\">\n",
              "  <thead>\n",
              "    <tr>\n",
              "      <th id=\"T_61b47_level0_col0\" class=\"col_heading level0 col0\" >status</th>\n",
              "      <th id=\"T_61b47_level0_col1\" class=\"col_heading level0 col1\" >total_customer</th>\n",
              "      <th id=\"T_61b47_level0_col2\" class=\"col_heading level0 col2\" >avg_monthly_charge</th>\n",
              "    </tr>\n",
              "  </thead>\n",
              "  <tbody>\n",
              "    <tr>\n",
              "      <td id=\"T_61b47_row0_col0\" class=\"data row0 col0\" >Churned</td>\n",
              "      <td id=\"T_61b47_row0_col1\" class=\"data row0 col1\" >1869</td>\n",
              "      <td id=\"T_61b47_row0_col2\" class=\"data row0 col2\" >74.44</td>\n",
              "    </tr>\n",
              "    <tr>\n",
              "      <td id=\"T_61b47_row1_col0\" class=\"data row1 col0\" >Joined</td>\n",
              "      <td id=\"T_61b47_row1_col1\" class=\"data row1 col1\" >454</td>\n",
              "      <td id=\"T_61b47_row1_col2\" class=\"data row1 col2\" >43.47</td>\n",
              "    </tr>\n",
              "    <tr>\n",
              "      <td id=\"T_61b47_row2_col0\" class=\"data row2 col0\" >Stayed</td>\n",
              "      <td id=\"T_61b47_row2_col1\" class=\"data row2 col1\" >4720</td>\n",
              "      <td id=\"T_61b47_row2_col2\" class=\"data row2 col2\" >62.98</td>\n",
              "    </tr>\n",
              "  </tbody>\n",
              "</table>\n"
            ],
            "text/plain": [
              "<pandas.io.formats.style.Styler at 0x140326850>"
            ]
          },
          "metadata": {},
          "output_type": "display_data"
        }
      ],
      "source": [
        "SELECT A.status, count(A.customer_id) as total_customer, round(avg(B.monthly_charge),2) as avg_monthly_charge\n",
        "from `Telco_churn.customer_status` as A\n",
        "LEFT JOIN Telco_churn.telco_services AS B\n",
        "ON A.customer_id = B.customer_id\n",
        "GROUP BY A.status"
      ]
    },
    {
      "cell_type": "markdown",
      "metadata": {
        "id": "AfOicdYFWm_t"
      },
      "source": [
        "<b><span style='color:#FFDB00'><i>Interpretasi Hasil : </i></span></b><br>\n",
        "Didapatkan bahwa harga tinggi kemungkinan menjadi faktor utama churn.\n",
        "Pelanggan baru membayar paling rendah, menandakan adanya diskon atau promosi lainnya.\n",
        "Masih banyak juga yang tetap loyal dengan harga lumayan. mungkin bisa diadakan paket yang lebih sesuai dengan kebutuhan untuk menghindari harga tinggi sehingga dapat mempertahankan pelanggan."
      ]
    },
    {
      "cell_type": "markdown",
      "metadata": {
        "id": "kmIYjYrMWm_u"
      },
      "source": [
        "#### <i><b><span style='color:#55679C'>Quest : </span>Bagaimana dengan total tenure ? Hitung berapa rata-rata tenure_in_month tiap status customer! Tampilkan status, total_customer, avg_tenure_in_month! Interpretasikan insight dari hasil perhitungan!"
      ]
    },
    {
      "cell_type": "code",
      "execution_count": null,
      "metadata": {
        "id": "t32QuraOWm_u",
        "outputId": "7b5b658b-11a1-4af8-bae4-08c3370eba6f"
      },
      "outputs": [
        {
          "data": {
            "text/html": [
              "<style type=\"text/css\">\n",
              "</style>\n",
              "<table id=\"T_9621b\">\n",
              "  <thead>\n",
              "    <tr>\n",
              "      <th id=\"T_9621b_level0_col0\" class=\"col_heading level0 col0\" >status</th>\n",
              "      <th id=\"T_9621b_level0_col1\" class=\"col_heading level0 col1\" >total_customer</th>\n",
              "      <th id=\"T_9621b_level0_col2\" class=\"col_heading level0 col2\" >avg_tenure_in_month</th>\n",
              "    </tr>\n",
              "  </thead>\n",
              "  <tbody>\n",
              "    <tr>\n",
              "      <td id=\"T_9621b_row0_col0\" class=\"data row0 col0\" >Churned</td>\n",
              "      <td id=\"T_9621b_row0_col1\" class=\"data row0 col1\" >1869</td>\n",
              "      <td id=\"T_9621b_row0_col2\" class=\"data row0 col2\" >17.98</td>\n",
              "    </tr>\n",
              "    <tr>\n",
              "      <td id=\"T_9621b_row1_col0\" class=\"data row1 col0\" >Joined</td>\n",
              "      <td id=\"T_9621b_row1_col1\" class=\"data row1 col1\" >454</td>\n",
              "      <td id=\"T_9621b_row1_col2\" class=\"data row1 col2\" >1.72</td>\n",
              "    </tr>\n",
              "    <tr>\n",
              "      <td id=\"T_9621b_row2_col0\" class=\"data row2 col0\" >Stayed</td>\n",
              "      <td id=\"T_9621b_row2_col1\" class=\"data row2 col1\" >4720</td>\n",
              "      <td id=\"T_9621b_row2_col2\" class=\"data row2 col2\" >41.04</td>\n",
              "    </tr>\n",
              "  </tbody>\n",
              "</table>\n"
            ],
            "text/plain": [
              "<pandas.io.formats.style.Styler at 0x1400c6790>"
            ]
          },
          "metadata": {},
          "output_type": "display_data"
        }
      ],
      "source": [
        "SELECT A.status, count(A.customer_id) as total_customer, round(avg(B.tenure_in_months),2) as avg_TIM\n",
        "from `Telco_churm.customer_status` as A\n",
        "LEFT JOIN Telco_churm.telco_services AS B\n",
        "ON A.customer_id = B.customer_id\n",
        "GROUP BY A.status"
      ]
    },
    {
      "cell_type": "markdown",
      "metadata": {
        "id": "HyQrYW4EWm_u"
      },
      "source": [
        "<b><span style='color:#FFDB00'><i>Interpretasi Hasil : </i></span></b><br>\n",
        "Pelanggan yang membayar lebih tinggi dan belum lama bergabung lebih berisiko berhenti langganan atau churn, sedangkan pelanggan yang sudah lama cenderung loyal meskipun tarif mereka lebih rendah dari yang churn."
      ]
    },
    {
      "cell_type": "markdown",
      "metadata": {
        "id": "83V5b6vSWm_u"
      },
      "source": [
        "#### <i><b><span style='color:#55679C'>Quest : </span>Perusahaan telekomunikasi ingin melakukan perluasan market ke beberapa daerah yang mana di daerah tersebut belum ada pelanggan terdaftar dalam database. Buatkan daftar kode pos pada tabel population yang sama sekali belum ada orang yang menggunakan layanan telekomunikasi! Tampilkan kode pos dan jumlah populasinya!"
      ]
    },
    {
      "cell_type": "code",
      "execution_count": null,
      "metadata": {
        "id": "S0Ml1Q9bWm_u",
        "outputId": "31fb7e76-bc71-4795-b7ec-b8162dc2aa5e"
      },
      "outputs": [
        {
          "data": {
            "text/html": [
              "<style type=\"text/css\">\n",
              "</style>\n",
              "<table id=\"T_8dab3\">\n",
              "  <thead>\n",
              "    <tr>\n",
              "      <th id=\"T_8dab3_level0_col0\" class=\"col_heading level0 col0\" >zip_code</th>\n",
              "      <th id=\"T_8dab3_level0_col1\" class=\"col_heading level0 col1\" >population</th>\n",
              "      <th id=\"T_8dab3_level0_col2\" class=\"col_heading level0 col2\" >total_customer</th>\n",
              "    </tr>\n",
              "  </thead>\n",
              "  <tbody>\n",
              "    <tr>\n",
              "      <td id=\"T_8dab3_row0_col0\" class=\"data row0 col0\" >91402</td>\n",
              "      <td id=\"T_8dab3_row0_col1\" class=\"data row0 col1\" >66249</td>\n",
              "      <td id=\"T_8dab3_row0_col2\" class=\"data row0 col2\" >0</td>\n",
              "    </tr>\n",
              "    <tr>\n",
              "      <td id=\"T_8dab3_row1_col0\" class=\"data row1 col0\" >95023</td>\n",
              "      <td id=\"T_8dab3_row1_col1\" class=\"data row1 col1\" >47514</td>\n",
              "      <td id=\"T_8dab3_row1_col2\" class=\"data row1 col2\" >0</td>\n",
              "    </tr>\n",
              "    <tr>\n",
              "      <td id=\"T_8dab3_row2_col0\" class=\"data row2 col0\" >90020</td>\n",
              "      <td id=\"T_8dab3_row2_col1\" class=\"data row2 col1\" >42394</td>\n",
              "      <td id=\"T_8dab3_row2_col2\" class=\"data row2 col2\" >0</td>\n",
              "    </tr>\n",
              "    <tr>\n",
              "      <td id=\"T_8dab3_row3_col0\" class=\"data row3 col0\" >92307</td>\n",
              "      <td id=\"T_8dab3_row3_col1\" class=\"data row3 col1\" >31876</td>\n",
              "      <td id=\"T_8dab3_row3_col2\" class=\"data row3 col2\" >0</td>\n",
              "    </tr>\n",
              "    <tr>\n",
              "      <td id=\"T_8dab3_row4_col0\" class=\"data row4 col0\" >93555</td>\n",
              "      <td id=\"T_8dab3_row4_col1\" class=\"data row4 col1\" >29782</td>\n",
              "      <td id=\"T_8dab3_row4_col2\" class=\"data row4 col2\" >0</td>\n",
              "    </tr>\n",
              "    <tr>\n",
              "      <td id=\"T_8dab3_row5_col0\" class=\"data row5 col0\" >95531</td>\n",
              "      <td id=\"T_8dab3_row5_col1\" class=\"data row5 col1\" >23792</td>\n",
              "      <td id=\"T_8dab3_row5_col2\" class=\"data row5 col2\" >0</td>\n",
              "    </tr>\n",
              "    <tr>\n",
              "      <td id=\"T_8dab3_row6_col0\" class=\"data row6 col0\" >92277</td>\n",
              "      <td id=\"T_8dab3_row6_col1\" class=\"data row6 col1\" >17178</td>\n",
              "      <td id=\"T_8dab3_row6_col2\" class=\"data row6 col2\" >0</td>\n",
              "    </tr>\n",
              "    <tr>\n",
              "      <td id=\"T_8dab3_row7_col0\" class=\"data row7 col0\" >96161</td>\n",
              "      <td id=\"T_8dab3_row7_col1\" class=\"data row7 col1\" >15783</td>\n",
              "      <td id=\"T_8dab3_row7_col2\" class=\"data row7 col2\" >0</td>\n",
              "    </tr>\n",
              "    <tr>\n",
              "      <td id=\"T_8dab3_row8_col0\" class=\"data row8 col0\" >93640</td>\n",
              "      <td id=\"T_8dab3_row8_col1\" class=\"data row8 col1\" >9174</td>\n",
              "      <td id=\"T_8dab3_row8_col2\" class=\"data row8 col2\" >0</td>\n",
              "    </tr>\n",
              "    <tr>\n",
              "      <td id=\"T_8dab3_row9_col0\" class=\"data row9 col0\" >96064</td>\n",
              "      <td id=\"T_8dab3_row9_col1\" class=\"data row9 col1\" >4592</td>\n",
              "      <td id=\"T_8dab3_row9_col2\" class=\"data row9 col2\" >0</td>\n",
              "    </tr>\n",
              "    <tr>\n",
              "      <td id=\"T_8dab3_row10_col0\" class=\"data row10 col0\" >...</td>\n",
              "      <td id=\"T_8dab3_row10_col1\" class=\"data row10 col1\" >...</td>\n",
              "      <td id=\"T_8dab3_row10_col2\" class=\"data row10 col2\" >...</td>\n",
              "    </tr>\n",
              "  </tbody>\n",
              "</table>\n"
            ],
            "text/plain": [
              "<pandas.io.formats.style.Styler at 0x1511ce350>"
            ]
          },
          "metadata": {},
          "output_type": "display_data"
        }
      ],
      "source": [
        "SELECT A.zip_code, A.population AS population, count(B.customer_id) as total_customer\n",
        "from Telco_churm.population as A\n",
        "LEFT JOIN Telco_churm.customer_location AS B\n",
        "ON A.zip_code = B.zip_code\n",
        "GROUP BY A.zip_code, A.population\n",
        "HAVING count(B.customer_id) = 0\n"
      ]
    },
    {
      "cell_type": "markdown",
      "metadata": {
        "id": "M6yR69ZCWm_v"
      },
      "source": [
        "<b><span style='color:#FFDB00'><i>Interpretasi Hasil : </i></span></b><br>\n",
        "wilayah dengan zip code ini belum dijangkau oleh layanan,hal ini bisa menjadi peluang bisnis untuk memperluas area layanan, dengan mengutamakan pada zip code yang populasinya tinggi"
      ]
    },
    {
      "cell_type": "markdown",
      "metadata": {
        "id": "fvF2sbELWm_v"
      },
      "source": [
        "#### <i><b><span style='color:#55679C'>Tugas Tambahan: </span> Identifikasi daerah atau kota yang memiliki tingkat churn tertinggi"
      ]
    },
    {
      "cell_type": "code",
      "execution_count": null,
      "metadata": {
        "id": "Mcs9TL1sWm_v"
      },
      "outputs": [],
      "source": [
        "SELECT  A.city,  A.state, count(B.customer_id) AS total_customer\n",
        "from `Telco_churm.customer_status` AS B\n",
        "JOIN `Telco_churm.customer_location` AS A\n",
        "ON  B.customer_id = A.customer_id\n",
        "where  B.status = \"Churned\"\n",
        "GROUP BY  A.city, A.state\n",
        "order by total_customer desc\n",
        "limit 1"
      ]
    },
    {
      "cell_type": "markdown",
      "source": [
        "![Screenshot 2025-05-08 021058.jpg](data:image/jpeg;base64,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)"
      ],
      "metadata": {
        "id": "9usGEv1fI1hI"
      }
    }
  ],
  "metadata": {
    "kernelspec": {
      "display_name": "base",
      "language": "python",
      "name": "python3"
    },
    "language_info": {
      "codemirror_mode": {
        "name": "ipython",
        "version": 3
      },
      "file_extension": ".py",
      "mimetype": "text/x-python",
      "name": "python",
      "nbconvert_exporter": "python",
      "pygments_lexer": "ipython3",
      "version": "3.11.8"
    },
    "colab": {
      "provenance": []
    }
  },
  "nbformat": 4,
  "nbformat_minor": 0
}